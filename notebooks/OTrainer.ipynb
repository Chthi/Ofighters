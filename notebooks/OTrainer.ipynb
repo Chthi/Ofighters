{
 "cells": [
  {
   "cell_type": "code",
   "execution_count": 1,
   "metadata": {},
   "outputs": [],
   "source": [
    "%reload_ext autoreload\n",
    "%autoreload 2\n",
    "%matplotlib inline"
   ]
  },
  {
   "cell_type": "code",
   "execution_count": 2,
   "metadata": {},
   "outputs": [],
   "source": [
    "import pickle\n",
    "import os\n",
    "import glob\n",
    "import numpy as np\n",
    "import matplotlib\n",
    "import matplotlib.pyplot as plt\n",
    "\n",
    "from copy import deepcopy\n",
    "\n",
    "import torch\n",
    "import torch.nn.functional as F\n",
    "import torch.nn as nn\n",
    "\n",
    "from torch.utils.data import DataLoader\n",
    "from torch.utils.data.dataset import TensorDataset"
   ]
  },
  {
   "cell_type": "code",
   "execution_count": 3,
   "metadata": {},
   "outputs": [],
   "source": [
    "from fastai.vision import *\n",
    "from fastai.tabular import *\n",
    "from fastai.text import *\n",
    "from fastai.metrics import error_rate, accuracy\n",
    "from fastai import *"
   ]
  },
  {
   "cell_type": "markdown",
   "metadata": {},
   "source": [
    "## Setups"
   ]
  },
  {
   "cell_type": "code",
   "execution_count": 4,
   "metadata": {},
   "outputs": [
    {
     "data": {
      "text/plain": [
       "device(type='cuda')"
      ]
     },
     "execution_count": 4,
     "metadata": {},
     "output_type": "execute_result"
    }
   ],
   "source": [
    "# use GPU for processing if available\n",
    "USE_CUDA = torch.cuda.is_available()\n",
    "USE_CUDA = USE_CUDA and True\n",
    "device = torch.device(\"cuda\" if USE_CUDA else \"cpu\")\n",
    "device"
   ]
  },
  {
   "cell_type": "code",
   "execution_count": 5,
   "metadata": {},
   "outputs": [
    {
     "data": {
      "text/plain": [
       "2"
      ]
     },
     "execution_count": 5,
     "metadata": {},
     "output_type": "execute_result"
    }
   ],
   "source": [
    "torch.cuda.device_count()"
   ]
  },
  {
   "cell_type": "code",
   "execution_count": 6,
   "metadata": {},
   "outputs": [
    {
     "data": {
      "text/plain": [
       "0"
      ]
     },
     "execution_count": 6,
     "metadata": {},
     "output_type": "execute_result"
    }
   ],
   "source": [
    "torch.cuda.current_device()"
   ]
  },
  {
   "cell_type": "code",
   "execution_count": 7,
   "metadata": {},
   "outputs": [],
   "source": [
    "torch.cuda.set_device(1)"
   ]
  },
  {
   "cell_type": "code",
   "execution_count": 8,
   "metadata": {},
   "outputs": [],
   "source": [
    "np.random.seed(42)"
   ]
  },
  {
   "cell_type": "markdown",
   "metadata": {},
   "source": [
    "## Load records"
   ]
  },
  {
   "cell_type": "code",
   "execution_count": 9,
   "metadata": {},
   "outputs": [],
   "source": [
    "PATH = \"/home/mondher/Documents/Thibault/GPU Tests/python/ofighters/notebooks/\""
   ]
  },
  {
   "cell_type": "code",
   "execution_count": 10,
   "metadata": {},
   "outputs": [],
   "source": [
    "def load_records(paths):\n",
    "    \"\"\"Load all the given files into one record dictionary\"\"\"\n",
    "    records = {\"obs\" : [], \"sol\" : []}\n",
    "    if not isinstance(paths, list):\n",
    "        paths = [paths]\n",
    "    for path in paths:\n",
    "        if not path.endswith(\".orec\"):\n",
    "            path += \".orec\"\n",
    "        with open(path , \"rb\") as file:\n",
    "            content = pickle.load(file)\n",
    "            if isinstance(content, dict):\n",
    "                # print(content[\"sol\"])\n",
    "                records[\"obs\"].extend(content[\"obs\"])\n",
    "                records[\"sol\"].extend(content[\"sol\"])\n",
    "            else:\n",
    "                raise Exception(\"Bad file content : dict expected\")\n",
    "    return records"
   ]
  },
  {
   "cell_type": "code",
   "execution_count": 11,
   "metadata": {},
   "outputs": [],
   "source": [
    "record_path = os.path.join(\"..\", \"ofighter_records\")"
   ]
  },
  {
   "cell_type": "code",
   "execution_count": 12,
   "metadata": {},
   "outputs": [],
   "source": [
    "files = glob.glob(os.path.join(record_path, \"ofighter_record_*.orec\"))\n",
    "files = glob.glob(os.path.join(record_path, \"ofighter_record_19-07-09-14-18-13.orec\"))"
   ]
  },
  {
   "cell_type": "code",
   "execution_count": 13,
   "metadata": {},
   "outputs": [],
   "source": [
    "dataset = load_records(files)"
   ]
  },
  {
   "cell_type": "markdown",
   "metadata": {},
   "source": [
    "## Look at datas"
   ]
  },
  {
   "cell_type": "code",
   "execution_count": 14,
   "metadata": {},
   "outputs": [
    {
     "data": {
      "text/plain": [
       "array([[ 0.],\n",
       "       [ 1.],\n",
       "       [18.],\n",
       "       [17.],\n",
       "       ...,\n",
       "       [ 0.],\n",
       "       [ 0.],\n",
       "       [ 0.],\n",
       "       [ 0.]])"
      ]
     },
     "execution_count": 14,
     "metadata": {},
     "output_type": "execute_result"
    }
   ],
   "source": [
    "frame = dataset[\"obs\"][0]\n",
    "frame"
   ]
  },
  {
   "cell_type": "code",
   "execution_count": 15,
   "metadata": {},
   "outputs": [
    {
     "data": {
      "text/plain": [
       "0"
      ]
     },
     "execution_count": 15,
     "metadata": {},
     "output_type": "execute_result"
    }
   ],
   "source": [
    "reward = int(frame[0])\n",
    "reward"
   ]
  },
  {
   "cell_type": "code",
   "execution_count": 16,
   "metadata": {},
   "outputs": [
    {
     "data": {
      "text/plain": [
       "True"
      ]
     },
     "execution_count": 16,
     "metadata": {},
     "output_type": "execute_result"
    }
   ],
   "source": [
    "can_shoot = bool(frame[1])\n",
    "can_shoot"
   ]
  },
  {
   "cell_type": "code",
   "execution_count": 17,
   "metadata": {},
   "outputs": [
    {
     "data": {
      "text/plain": [
       "(18, 17)"
      ]
     },
     "execution_count": 17,
     "metadata": {},
     "output_type": "execute_result"
    }
   ],
   "source": [
    "pointing = (int(frame[2]), int(frame[3]))\n",
    "pointing"
   ]
  },
  {
   "cell_type": "code",
   "execution_count": 18,
   "metadata": {},
   "outputs": [
    {
     "data": {
      "text/plain": [
       "(400, 400)"
      ]
     },
     "execution_count": 18,
     "metadata": {},
     "output_type": "execute_result"
    }
   ],
   "source": [
    "dim = (int(frame[4]), int(frame[5]))\n",
    "dim"
   ]
  },
  {
   "cell_type": "code",
   "execution_count": 19,
   "metadata": {},
   "outputs": [
    {
     "data": {
      "text/plain": [
       "(319, 184)"
      ]
     },
     "execution_count": 19,
     "metadata": {},
     "output_type": "execute_result"
    }
   ],
   "source": [
    "pos = (int(frame[6]), int(frame[7]))\n",
    "pos"
   ]
  },
  {
   "cell_type": "code",
   "execution_count": 20,
   "metadata": {},
   "outputs": [
    {
     "name": "stdout",
     "output_type": "stream",
     "text": [
      "400.0\n",
      "[1333.]\n"
     ]
    },
    {
     "data": {
      "text/plain": [
       "array([[0.],\n",
       "       [0.],\n",
       "       [0.],\n",
       "       [0.],\n",
       "       ...,\n",
       "       [0.],\n",
       "       [0.],\n",
       "       [0.],\n",
       "       [0.]])"
      ]
     },
     "execution_count": 20,
     "metadata": {},
     "output_type": "execute_result"
    }
   ],
   "source": [
    "ship_map = frame[8:8+(dim[0]*dim[1])]\n",
    "print(len(ship_map)/dim[0])\n",
    "print(sum(ship_map))\n",
    "ship_map"
   ]
  },
  {
   "cell_type": "code",
   "execution_count": 21,
   "metadata": {},
   "outputs": [],
   "source": [
    "ship_map = ship_map.reshape(dim[0], dim[1])"
   ]
  },
  {
   "cell_type": "code",
   "execution_count": 22,
   "metadata": {},
   "outputs": [
    {
     "name": "stdout",
     "output_type": "stream",
     "text": [
      "400.0\n",
      "[78.]\n"
     ]
    },
    {
     "data": {
      "text/plain": [
       "array([[0.],\n",
       "       [0.],\n",
       "       [0.],\n",
       "       [0.],\n",
       "       ...,\n",
       "       [0.],\n",
       "       [0.],\n",
       "       [0.],\n",
       "       [0.]])"
      ]
     },
     "execution_count": 22,
     "metadata": {},
     "output_type": "execute_result"
    }
   ],
   "source": [
    "laser_map = frame[8+(dim[0]*dim[1]):8+(2*dim[0]*dim[1])]\n",
    "print(len(laser_map)/dim[0])\n",
    "print(sum(laser_map))\n",
    "laser_map"
   ]
  },
  {
   "cell_type": "code",
   "execution_count": 23,
   "metadata": {},
   "outputs": [],
   "source": [
    "laser_map = laser_map.reshape(dim[0], dim[1])"
   ]
  },
  {
   "cell_type": "code",
   "execution_count": 24,
   "metadata": {},
   "outputs": [
    {
     "data": {
      "image/png": "[encoded data removed]",
      "text/plain": [
       "<Figure size 432x288 with 1 Axes>"
      ]
     },
     "metadata": {
      "needs_background": "light"
     },
     "output_type": "display_data"
    }
   ],
   "source": [
    "im = plt.imshow(ship_map, cmap=\"binary\")\n",
    "plt.show()"
   ]
  },
  {
   "cell_type": "code",
   "execution_count": 25,
   "metadata": {},
   "outputs": [
    {
     "data": {
      "image/png": "[encoded data removed]",
      "text/plain": [
       "<Figure size 432x288 with 1 Axes>"
      ]
     },
     "metadata": {
      "needs_background": "light"
     },
     "output_type": "display_data"
    }
   ],
   "source": [
    "im = plt.imshow(laser_map, cmap=\"binary\")\n",
    "plt.show()"
   ]
  },
  {
   "cell_type": "markdown",
   "metadata": {},
   "source": [
    "# Part 1 : model based on linear input"
   ]
  },
  {
   "cell_type": "markdown",
   "metadata": {},
   "source": [
    "## Preprocessing"
   ]
  },
  {
   "cell_type": "code",
   "execution_count": 297,
   "metadata": {},
   "outputs": [],
   "source": [
    "# only keep observations informations that are not images\n",
    "vector_obs = []\n",
    "for obs in dataset[\"obs\"]:\n",
    "    vector_obs.append(obs[0:8])"
   ]
  },
  {
   "cell_type": "code",
   "execution_count": 298,
   "metadata": {},
   "outputs": [],
   "source": [
    "# dimention of the map\n",
    "dim = (int(vector_obs[0][4]), int(vector_obs[0][5]))"
   ]
  },
  {
   "cell_type": "code",
   "execution_count": 299,
   "metadata": {},
   "outputs": [
    {
     "data": {
      "text/plain": [
       "[array([[0.    ],\n",
       "        [0.    ],\n",
       "        [0.05  ],\n",
       "        [0.0575]]), array([[0.    ],\n",
       "        [0.    ],\n",
       "        [0.5325],\n",
       "        [0.665 ]]), array([[1.    ],\n",
       "        [0.    ],\n",
       "        [0.5375],\n",
       "        [0.39  ]]), array([[1.    ],\n",
       "        [0.    ],\n",
       "        [0.6925],\n",
       "        [0.255 ]]), array([[1.  ],\n",
       "        [0.  ],\n",
       "        [0.83],\n",
       "        [0.25]]), array([[1.    ],\n",
       "        [0.    ],\n",
       "        [0.8975],\n",
       "        [0.3275]]), array([[0.    ],\n",
       "        [0.    ],\n",
       "        [0.905 ],\n",
       "        [0.3175]]), array([[0.  ],\n",
       "        [1.  ],\n",
       "        [0.98],\n",
       "        [0.63]]), array([[0.    ],\n",
       "        [0.    ],\n",
       "        [0.9825],\n",
       "        [0.59  ]]), array([[0.   ],\n",
       "        [1.   ],\n",
       "        [0.99 ],\n",
       "        [0.555]]), array([[0.    ],\n",
       "        [1.    ],\n",
       "        [0.9175],\n",
       "        [0.585 ]]), array([[0.    ],\n",
       "        [1.    ],\n",
       "        [0.7125],\n",
       "        [0.6575]]), array([[0.    ],\n",
       "        [1.    ],\n",
       "        [0.6225],\n",
       "        [0.71  ]]), array([[0.   ],\n",
       "        [1.   ],\n",
       "        [0.635],\n",
       "        [0.71 ]]), array([[0.    ],\n",
       "        [0.    ],\n",
       "        [0.8925],\n",
       "        [0.64  ]]), array([[0.    ],\n",
       "        [0.    ],\n",
       "        [0.99  ],\n",
       "        [0.5625]]), array([[0.    ],\n",
       "        [0.    ],\n",
       "        [0.9625],\n",
       "        [0.53  ]]), array([[0.    ],\n",
       "        [1.    ],\n",
       "        [0.8075],\n",
       "        [0.39  ]]), array([[1.  ],\n",
       "        [0.  ],\n",
       "        [0.77],\n",
       "        [0.36]]), array([[1.    ],\n",
       "        [0.    ],\n",
       "        [0.805 ],\n",
       "        [0.3575]]), array([[1.    ],\n",
       "        [0.    ],\n",
       "        [0.7975],\n",
       "        [0.3575]]), array([[0.    ],\n",
       "        [1.    ],\n",
       "        [0.0075],\n",
       "        [1.3075]]), array([[0.    ],\n",
       "        [0.    ],\n",
       "        [0.9625],\n",
       "        [0.4225]]), array([[0.   ],\n",
       "        [1.   ],\n",
       "        [0.96 ],\n",
       "        [0.425]]), array([[0.    ],\n",
       "        [1.    ],\n",
       "        [0.96  ],\n",
       "        [0.4575]]), array([[0.    ],\n",
       "        [1.    ],\n",
       "        [0.9725],\n",
       "        [0.4275]]), array([[0.    ],\n",
       "        [1.    ],\n",
       "        [0.975 ],\n",
       "        [0.2925]]), array([[0.    ],\n",
       "        [0.    ],\n",
       "        [0.97  ],\n",
       "        [0.3075]]), array([[0.    ],\n",
       "        [1.    ],\n",
       "        [0.73  ],\n",
       "        [0.4975]]), array([[0.    ],\n",
       "        [1.    ],\n",
       "        [0.7675],\n",
       "        [0.2825]]), array([[0.    ],\n",
       "        [1.    ],\n",
       "        [0.7825],\n",
       "        [0.27  ]]), array([[1.    ],\n",
       "        [0.    ],\n",
       "        [0.355 ],\n",
       "        [0.6625]]), array([[1.    ],\n",
       "        [0.    ],\n",
       "        [0.345 ],\n",
       "        [0.6625]]), array([[1.    ],\n",
       "        [0.    ],\n",
       "        [0.3725],\n",
       "        [0.68  ]]), array([[1.    ],\n",
       "        [0.    ],\n",
       "        [0.4775],\n",
       "        [0.36  ]]), array([[1.    ],\n",
       "        [0.    ],\n",
       "        [0.4925],\n",
       "        [0.34  ]]), array([[1.    ],\n",
       "        [0.    ],\n",
       "        [0.445 ],\n",
       "        [0.4175]]), array([[0.   ],\n",
       "        [0.   ],\n",
       "        [0.435],\n",
       "        [0.53 ]]), array([[0.    ],\n",
       "        [0.    ],\n",
       "        [0.67  ],\n",
       "        [0.4575]]), array([[0.   ],\n",
       "        [0.   ],\n",
       "        [0.465],\n",
       "        [0.595]]), array([[0.    ],\n",
       "        [0.    ],\n",
       "        [0.9275],\n",
       "        [0.5675]]), array([[0.    ],\n",
       "        [1.    ],\n",
       "        [0.9575],\n",
       "        [0.6925]]), array([[0.    ],\n",
       "        [1.    ],\n",
       "        [0.8575],\n",
       "        [0.745 ]]), array([[0.    ],\n",
       "        [1.    ],\n",
       "        [0.4675],\n",
       "        [0.7025]]), array([[1.    ],\n",
       "        [0.    ],\n",
       "        [0.1875],\n",
       "        [0.68  ]]), array([[1.    ],\n",
       "        [0.    ],\n",
       "        [0.155 ],\n",
       "        [0.7275]]), array([[1.    ],\n",
       "        [0.    ],\n",
       "        [0.135 ],\n",
       "        [0.6575]]), array([[1.   ],\n",
       "        [0.   ],\n",
       "        [0.115],\n",
       "        [0.565]]), array([[1.    ],\n",
       "        [1.    ],\n",
       "        [0.115 ],\n",
       "        [0.5625]]), array([[1.    ],\n",
       "        [0.    ],\n",
       "        [0.12  ],\n",
       "        [0.5775]]), array([[1.    ],\n",
       "        [1.    ],\n",
       "        [0.1025],\n",
       "        [0.55  ]]), array([[0.    ],\n",
       "        [1.    ],\n",
       "        [0.3975],\n",
       "        [0.68  ]]), array([[0.    ],\n",
       "        [0.    ],\n",
       "        [0.55  ],\n",
       "        [0.7325]]), array([[0.   ],\n",
       "        [1.   ],\n",
       "        [0.405],\n",
       "        [0.78 ]]), array([[0.    ],\n",
       "        [0.    ],\n",
       "        [0.3925],\n",
       "        [0.775 ]]), array([[0.    ],\n",
       "        [0.    ],\n",
       "        [0.3275],\n",
       "        [0.6975]]), array([[0.    ],\n",
       "        [1.    ],\n",
       "        [0.2375],\n",
       "        [0.6575]]), array([[1.    ],\n",
       "        [1.    ],\n",
       "        [0.2025],\n",
       "        [0.6575]]), array([[1.    ],\n",
       "        [1.    ],\n",
       "        [0.405 ],\n",
       "        [0.7525]]), array([[0.  ],\n",
       "        [1.  ],\n",
       "        [0.65],\n",
       "        [0.48]]), array([[0.    ],\n",
       "        [0.    ],\n",
       "        [0.5675],\n",
       "        [0.805 ]]), array([[0.    ],\n",
       "        [1.    ],\n",
       "        [0.5675],\n",
       "        [0.805 ]]), array([[0.    ],\n",
       "        [0.    ],\n",
       "        [0.5625],\n",
       "        [0.825 ]]), array([[0.    ],\n",
       "        [1.    ],\n",
       "        [0.5675],\n",
       "        [0.86  ]]), array([[0.    ],\n",
       "        [1.    ],\n",
       "        [0.595 ],\n",
       "        [0.0225]]), array([[0.   ],\n",
       "        [1.   ],\n",
       "        [0.64 ],\n",
       "        [0.205]]), array([[0.    ],\n",
       "        [1.    ],\n",
       "        [0.65  ],\n",
       "        [0.2175]]), array([[0.    ],\n",
       "        [1.    ],\n",
       "        [0.6475],\n",
       "        [0.22  ]]), array([[0.   ],\n",
       "        [0.   ],\n",
       "        [0.655],\n",
       "        [0.19 ]]), array([[0.    ],\n",
       "        [1.    ],\n",
       "        [0.6175],\n",
       "        [0.175 ]]), array([[0.    ],\n",
       "        [1.    ],\n",
       "        [0.5775],\n",
       "        [0.1725]]), array([[0.    ],\n",
       "        [1.    ],\n",
       "        [0.575 ],\n",
       "        [0.1725]]), array([[0.    ],\n",
       "        [1.    ],\n",
       "        [0.3425],\n",
       "        [0.285 ]]), array([[0.    ],\n",
       "        [1.    ],\n",
       "        [0.19  ],\n",
       "        [0.3925]]), array([[0.    ],\n",
       "        [1.    ],\n",
       "        [0.1625],\n",
       "        [0.405 ]]), array([[0.   ],\n",
       "        [1.   ],\n",
       "        [0.16 ],\n",
       "        [0.415]]), array([[0.    ],\n",
       "        [1.    ],\n",
       "        [0.1675],\n",
       "        [0.5425]]), array([[0.    ],\n",
       "        [1.    ],\n",
       "        [0.3075],\n",
       "        [0.645 ]]), array([[0.    ],\n",
       "        [1.    ],\n",
       "        [0.015 ],\n",
       "        [0.0025]]), array([[0.    ],\n",
       "        [0.    ],\n",
       "        [0.005 ],\n",
       "        [0.0075]]), array([[0.    ],\n",
       "        [0.    ],\n",
       "        [0.0025],\n",
       "        [0.0175]]), array([[0.    ],\n",
       "        [0.    ],\n",
       "        [0.0475],\n",
       "        [0.0375]]), array([[0.    ],\n",
       "        [0.    ],\n",
       "        [0.0475],\n",
       "        [0.035 ]])]"
      ]
     },
     "execution_count": 299,
     "metadata": {},
     "output_type": "execute_result"
    }
   ],
   "source": [
    "# we normalize the values of output so they are all between 0 and 1\n",
    "outputs = deepcopy(dataset[\"sol\"])\n",
    "for i, elt in enumerate(outputs):\n",
    "    # index of parameters that represent a position on the map\n",
    "    pos_param = [(2, 3)]\n",
    "    for pos in pos_param:\n",
    "        outputs[i][pos[0]] /= dim[0]\n",
    "        outputs[i][pos[1]] /= dim[1]\n",
    "outputs"
   ]
  },
  {
   "cell_type": "code",
   "execution_count": 300,
   "metadata": {},
   "outputs": [],
   "source": [
    "training_size = int(0.8 * len(dataset[\"obs\"]))"
   ]
  },
  {
   "cell_type": "code",
   "execution_count": 301,
   "metadata": {},
   "outputs": [
    {
     "data": {
      "text/plain": [
       "(66, 17)"
      ]
     },
     "execution_count": 301,
     "metadata": {},
     "output_type": "execute_result"
    }
   ],
   "source": [
    "x_train, y_train = vector_obs[0:training_size], outputs[0:training_size]\n",
    "x_valid, y_valid = vector_obs[training_size:], outputs[training_size:]\n",
    "len(x_train), len(x_valid)"
   ]
  },
  {
   "cell_type": "markdown",
   "metadata": {},
   "source": [
    "Size of input and output."
   ]
  },
  {
   "cell_type": "code",
   "execution_count": 302,
   "metadata": {},
   "outputs": [
    {
     "data": {
      "text/plain": [
       "(17, 8, 1)"
      ]
     },
     "execution_count": 302,
     "metadata": {},
     "output_type": "execute_result"
    }
   ],
   "source": [
    "np.array(x_valid).shape"
   ]
  },
  {
   "cell_type": "code",
   "execution_count": 303,
   "metadata": {},
   "outputs": [
    {
     "data": {
      "text/plain": [
       "(17, 4, 1)"
      ]
     },
     "execution_count": 303,
     "metadata": {},
     "output_type": "execute_result"
    }
   ],
   "source": [
    "np.array(y_valid).shape"
   ]
  },
  {
   "cell_type": "markdown",
   "metadata": {},
   "source": [
    "## Model"
   ]
  },
  {
   "cell_type": "code",
   "execution_count": 304,
   "metadata": {},
   "outputs": [
    {
     "name": "stdout",
     "output_type": "stream",
     "text": [
      "SimpleModel(\n",
      "  (linear1): Linear(in_features=8, out_features=15, bias=True)\n",
      "  (linear2): Linear(in_features=15, out_features=4, bias=True)\n",
      ")\n"
     ]
    }
   ],
   "source": [
    "class SimpleModel(nn.Module):\n",
    "    def __init__(self):\n",
    "        super().__init__()\n",
    "\n",
    "        self.linear1 = nn.Linear(8, 15)\n",
    "        self.linear2 = nn.Linear(15, 4)\n",
    "\n",
    "    def forward(self, x):\n",
    "        x = torch.tanh(self.linear1(x))\n",
    "        x = torch.sigmoid(self.linear2(x))\n",
    "        return x\n",
    "\n",
    "vect_model = SimpleModel().to(device)\n",
    "print(vect_model)"
   ]
  },
  {
   "cell_type": "markdown",
   "metadata": {},
   "source": [
    "## Training"
   ]
  },
  {
   "cell_type": "code",
   "execution_count": 305,
   "metadata": {},
   "outputs": [],
   "source": [
    "x_train,y_train,x_valid,y_valid = map(torch.tensor, (x_train,y_train,x_valid,y_valid))\n",
    "x_train,y_train,x_valid,y_valid = map(lambda x : x.squeeze(), (x_train,y_train,x_valid,y_valid))\n",
    "x_train,y_train,x_valid,y_valid = map(lambda x : x.float(), (x_train,y_train,x_valid,y_valid))"
   ]
  },
  {
   "cell_type": "code",
   "execution_count": 306,
   "metadata": {},
   "outputs": [
    {
     "data": {
      "text/plain": [
       "torch.Size([66, 8])"
      ]
     },
     "execution_count": 306,
     "metadata": {},
     "output_type": "execute_result"
    }
   ],
   "source": [
    "x_train.shape"
   ]
  },
  {
   "cell_type": "code",
   "execution_count": 376,
   "metadata": {},
   "outputs": [],
   "source": [
    "bs = 32"
   ]
  },
  {
   "cell_type": "code",
   "execution_count": 377,
   "metadata": {},
   "outputs": [],
   "source": [
    "train_ds = TensorDataset(x_train, y_train)\n",
    "valid_ds = TensorDataset(x_valid, y_valid)\n",
    "data = DataBunch.create(train_ds, valid_ds, bs=bs)"
   ]
  },
  {
   "cell_type": "code",
   "execution_count": 378,
   "metadata": {},
   "outputs": [
    {
     "data": {
      "text/plain": [
       "(torch.Size([32, 8]), torch.Size([32, 4]))"
      ]
     },
     "execution_count": 378,
     "metadata": {},
     "output_type": "execute_result"
    }
   ],
   "source": [
    "x,y = next(iter(data.train_dl))\n",
    "x.shape,y.shape"
   ]
  },
  {
   "cell_type": "code",
   "execution_count": 379,
   "metadata": {},
   "outputs": [
    {
     "data": {
      "text/plain": [
       "(tensor(0., device='cuda:1'), tensor(400., device='cuda:1'))"
      ]
     },
     "execution_count": 379,
     "metadata": {},
     "output_type": "execute_result"
    }
   ],
   "source": [
    "x.min(), x.max()"
   ]
  },
  {
   "cell_type": "code",
   "execution_count": 380,
   "metadata": {},
   "outputs": [
    {
     "data": {
      "text/plain": [
       "(tensor(0., device='cuda:1'), tensor(1.3075, device='cuda:1'))"
      ]
     },
     "execution_count": 380,
     "metadata": {},
     "output_type": "execute_result"
    }
   ],
   "source": [
    "y.min(), y.max()"
   ]
  },
  {
   "cell_type": "code",
   "execution_count": 381,
   "metadata": {},
   "outputs": [
    {
     "data": {
      "text/plain": [
       "torch.Size([32, 4])"
      ]
     },
     "execution_count": 381,
     "metadata": {},
     "output_type": "execute_result"
    }
   ],
   "source": [
    "vect_model(x).shape"
   ]
  },
  {
   "cell_type": "code",
   "execution_count": 382,
   "metadata": {},
   "outputs": [],
   "source": [
    "loss_func = nn.MSELoss()\n",
    "learn = Learner(data, vect_model, loss_func=loss_func)"
   ]
  },
  {
   "cell_type": "code",
   "execution_count": 383,
   "metadata": {},
   "outputs": [
    {
     "data": {
      "text/html": [],
      "text/plain": [
       "<IPython.core.display.HTML object>"
      ]
     },
     "metadata": {},
     "output_type": "display_data"
    },
    {
     "name": "stdout",
     "output_type": "stream",
     "text": [
      "LR Finder is complete, type {learner_name}.recorder.plot() to see the graph.\n"
     ]
    },
    {
     "data": {
      "image/png": "[encoded data removed]",
      "text/plain": [
       "<Figure size 432x288 with 1 Axes>"
      ]
     },
     "metadata": {
      "needs_background": "light"
     },
     "output_type": "display_data"
    }
   ],
   "source": [
    "learn.lr_find()\n",
    "learn.recorder.plot()"
   ]
  },
  {
   "cell_type": "code",
   "execution_count": 384,
   "metadata": {},
   "outputs": [
    {
     "data": {
      "text/html": [
       "Total time: 00:07 <p><table border=\"1\" class=\"dataframe\">\n",
       "  <thead>\n",
       "    <tr style=\"text-align: left;\">\n",
       "      <th>epoch</th>\n",
       "      <th>train_loss</th>\n",
       "      <th>valid_loss</th>\n",
       "      <th>time</th>\n",
       "    </tr>\n",
       "  </thead>\n",
       "  <tbody>\n",
       "    <tr>\n",
       "      <td>0</td>\n",
       "      <td>0.130464</td>\n",
       "      <td>0.158350</td>\n",
       "      <td>00:00</td>\n",
       "    </tr>\n",
       "    <tr>\n",
       "      <td>1</td>\n",
       "      <td>0.129266</td>\n",
       "      <td>0.162739</td>\n",
       "      <td>00:00</td>\n",
       "    </tr>\n",
       "    <tr>\n",
       "      <td>2</td>\n",
       "      <td>0.129375</td>\n",
       "      <td>0.184917</td>\n",
       "      <td>00:00</td>\n",
       "    </tr>\n",
       "    <tr>\n",
       "      <td>3</td>\n",
       "      <td>0.127614</td>\n",
       "      <td>0.198194</td>\n",
       "      <td>00:00</td>\n",
       "    </tr>\n",
       "    <tr>\n",
       "      <td>4</td>\n",
       "      <td>0.128065</td>\n",
       "      <td>0.199768</td>\n",
       "      <td>00:00</td>\n",
       "    </tr>\n",
       "    <tr>\n",
       "      <td>5</td>\n",
       "      <td>0.126603</td>\n",
       "      <td>0.197410</td>\n",
       "      <td>00:00</td>\n",
       "    </tr>\n",
       "    <tr>\n",
       "      <td>6</td>\n",
       "      <td>0.126081</td>\n",
       "      <td>0.195394</td>\n",
       "      <td>00:00</td>\n",
       "    </tr>\n",
       "    <tr>\n",
       "      <td>7</td>\n",
       "      <td>0.125879</td>\n",
       "      <td>0.193742</td>\n",
       "      <td>00:00</td>\n",
       "    </tr>\n",
       "    <tr>\n",
       "      <td>8</td>\n",
       "      <td>0.125832</td>\n",
       "      <td>0.192630</td>\n",
       "      <td>00:00</td>\n",
       "    </tr>\n",
       "    <tr>\n",
       "      <td>9</td>\n",
       "      <td>0.125336</td>\n",
       "      <td>0.192435</td>\n",
       "      <td>00:00</td>\n",
       "    </tr>\n",
       "  </tbody>\n",
       "</table>"
      ],
      "text/plain": [
       "<IPython.core.display.HTML object>"
      ]
     },
     "metadata": {},
     "output_type": "display_data"
    }
   ],
   "source": [
    "learn.fit_one_cycle(10, 1e-2)"
   ]
  },
  {
   "cell_type": "code",
   "execution_count": 385,
   "metadata": {},
   "outputs": [
    {
     "data": {
      "image/png": "[encoded data removed]",
      "text/plain": [
       "<Figure size 432x288 with 1 Axes>"
      ]
     },
     "metadata": {
      "needs_background": "light"
     },
     "output_type": "display_data"
    }
   ],
   "source": [
    "learn.recorder.plot_losses()"
   ]
  },
  {
   "cell_type": "code",
   "execution_count": 386,
   "metadata": {},
   "outputs": [
    {
     "data": {
      "image/png": "[encoded data removed]",
      "text/plain": [
       "<Figure size 864x288 with 2 Axes>"
      ]
     },
     "metadata": {
      "needs_background": "light"
     },
     "output_type": "display_data"
    }
   ],
   "source": [
    "learn.recorder.plot_lr(show_moms=True)"
   ]
  },
  {
   "cell_type": "markdown",
   "metadata": {},
   "source": [
    "## Testing"
   ]
  },
  {
   "cell_type": "code",
   "execution_count": 387,
   "metadata": {},
   "outputs": [
    {
     "data": {
      "text/plain": [
       "SimpleModel(\n",
       "  (linear1): Linear(in_features=8, out_features=15, bias=True)\n",
       "  (linear2): Linear(in_features=15, out_features=4, bias=True)\n",
       ")"
      ]
     },
     "execution_count": 387,
     "metadata": {},
     "output_type": "execute_result"
    }
   ],
   "source": [
    "vect_model.eval()"
   ]
  },
  {
   "cell_type": "code",
   "execution_count": 388,
   "metadata": {},
   "outputs": [
    {
     "data": {
      "text/plain": [
       "tensor([0.4182, 0.2445, 0.3103, 0.4801], device='cuda:1')"
      ]
     },
     "execution_count": 388,
     "metadata": {},
     "output_type": "execute_result"
    }
   ],
   "source": [
    "with torch.no_grad():\n",
    "    # 0 reward, can shoot, I point toward (0,0),the map is (400,400), I am in (100,100)\n",
    "    x = torch.tensor([0, 1, 0, 0, 400, 400, 100, 100]).float().cuda()\n",
    "    out = vect_model(x)\n",
    "    # output :\n",
    "    # tensor([0.5423, 0.5103, 0.4227, 0.5134], device='cuda:0',\n",
    "    # We should shoot, not convinced (0.5423)\n",
    "    # We should thrust, not convinced (0.5103)\n",
    "    # We should point toward 400 * (0.4227, 0.5134) = 169, 205\n",
    "out"
   ]
  },
  {
   "cell_type": "code",
   "execution_count": 389,
   "metadata": {},
   "outputs": [
    {
     "data": {
      "text/plain": [
       "array([  0,   0, 124, 192])"
      ]
     },
     "execution_count": 389,
     "metadata": {},
     "output_type": "execute_result"
    }
   ],
   "source": [
    "sol = np.array([\n",
    "    out[0] > 0.5,\n",
    "    out[1] > 0.5,\n",
    "    int(out[2] * 400),\n",
    "    int(out[3] * 400),\n",
    "])\n",
    "sol"
   ]
  },
  {
   "cell_type": "code",
   "execution_count": 390,
   "metadata": {},
   "outputs": [
    {
     "data": {
      "text/plain": [
       "SimpleModel(\n",
       "  (linear1): Linear(in_features=8, out_features=15, bias=True)\n",
       "  (linear2): Linear(in_features=15, out_features=4, bias=True)\n",
       ")"
      ]
     },
     "execution_count": 390,
     "metadata": {},
     "output_type": "execute_result"
    }
   ],
   "source": [
    "vect_model.train()"
   ]
  },
  {
   "cell_type": "markdown",
   "metadata": {},
   "source": [
    "Note that at this point we don't expect him to be good with so few informations of the battlefield. We only want to make sure that everything is working as intended."
   ]
  },
  {
   "cell_type": "markdown",
   "metadata": {},
   "source": [
    "Still it could be fun to try this model in game."
   ]
  },
  {
   "cell_type": "code",
   "execution_count": 300,
   "metadata": {},
   "outputs": [],
   "source": [
    "name = \"part1_09-07-19_sIAmple_pickle\"\n",
    "with open(name, \"wb+\") as file:\n",
    "    pickle.dump(vect_model, file)"
   ]
  },
  {
   "cell_type": "code",
   "execution_count": 301,
   "metadata": {},
   "outputs": [],
   "source": [
    "name = \"part1_09-07-19_sIAmple_fastai\"\n",
    "learn.save(name)"
   ]
  },
  {
   "cell_type": "code",
   "execution_count": 302,
   "metadata": {},
   "outputs": [],
   "source": [
    "name = \"part1_09-07-19_sIAmple_pytorch\"\n",
    "torch.save(vect_model, name)"
   ]
  },
  {
   "cell_type": "markdown",
   "metadata": {},
   "source": [
    "# Part 2 : model based on image input"
   ]
  },
  {
   "cell_type": "markdown",
   "metadata": {},
   "source": [
    "## Preprocessing"
   ]
  },
  {
   "cell_type": "code",
   "execution_count": 391,
   "metadata": {},
   "outputs": [],
   "source": [
    "# dimention of the map\n",
    "dim = (int(dataset[\"obs\"][0][4]), int(dataset[\"obs\"][0][5]))"
   ]
  },
  {
   "cell_type": "code",
   "execution_count": 392,
   "metadata": {},
   "outputs": [],
   "source": [
    "# only keep observations informations that are images\n",
    "# and reshape the images to there original form\n",
    "img_obs = []\n",
    "for obs in dataset[\"obs\"]:\n",
    "    img1 = obs[8:8+dim[0]*dim[1]]\n",
    "    img2 = obs[8+dim[0]*dim[1]:]\n",
    "    imgs = np.array([img1, img2]).reshape((2,dim[0],dim[1]))\n",
    "    img_obs.append(imgs)"
   ]
  },
  {
   "cell_type": "code",
   "execution_count": 393,
   "metadata": {},
   "outputs": [],
   "source": [
    "# we normalize the values of output so they are all between 0 and 1\n",
    "outputs = deepcopy(dataset[\"sol\"])\n",
    "for i, elt in enumerate(outputs):\n",
    "    # index of parameters that represent a position on the map\n",
    "    pos_param = [(2, 3)]\n",
    "    for pos in pos_param:\n",
    "        outputs[i][pos[0]] /= dim[0]\n",
    "        outputs[i][pos[1]] /= dim[1]"
   ]
  },
  {
   "cell_type": "code",
   "execution_count": 394,
   "metadata": {},
   "outputs": [],
   "source": [
    "training_size = int(0.8 * len(dataset[\"obs\"]))"
   ]
  },
  {
   "cell_type": "code",
   "execution_count": 395,
   "metadata": {},
   "outputs": [
    {
     "data": {
      "text/plain": [
       "(66, 17)"
      ]
     },
     "execution_count": 395,
     "metadata": {},
     "output_type": "execute_result"
    }
   ],
   "source": [
    "x_train, y_train = img_obs[0:training_size], outputs[0:training_size]\n",
    "x_valid, y_valid = img_obs[training_size:], outputs[training_size:]\n",
    "len(x_train), len(x_valid)"
   ]
  },
  {
   "cell_type": "markdown",
   "metadata": {},
   "source": [
    "Size of input and output."
   ]
  },
  {
   "cell_type": "code",
   "execution_count": 396,
   "metadata": {},
   "outputs": [
    {
     "data": {
      "text/plain": [
       "(17, 2, 400, 400)"
      ]
     },
     "execution_count": 396,
     "metadata": {},
     "output_type": "execute_result"
    }
   ],
   "source": [
    "np.array(x_valid).shape"
   ]
  },
  {
   "cell_type": "code",
   "execution_count": 397,
   "metadata": {},
   "outputs": [
    {
     "data": {
      "text/plain": [
       "(17, 4, 1)"
      ]
     },
     "execution_count": 397,
     "metadata": {},
     "output_type": "execute_result"
    }
   ],
   "source": [
    "np.array(y_valid).shape"
   ]
  },
  {
   "cell_type": "markdown",
   "metadata": {},
   "source": [
    "## Model"
   ]
  },
  {
   "cell_type": "code",
   "execution_count": 398,
   "metadata": {},
   "outputs": [],
   "source": [
    "# print module layer\n",
    "class Print(nn.Module):\n",
    "    def forward(self, x):\n",
    "        print(x.size())\n",
    "        return x"
   ]
  },
  {
   "cell_type": "code",
   "execution_count": 399,
   "metadata": {},
   "outputs": [],
   "source": [
    "class IAmageNet(nn.Module):\n",
    "\n",
    "    def __init__(self):\n",
    "        super(IAmageNet, self).__init__()\n",
    "        # input are ship map and laser map (400x400)\n",
    "        # 2 input image channel, 8 output channels, 5x5 square convolution\n",
    "        # kernel\n",
    "        self.conv1 = nn.Conv2d(2, 8, 5)\n",
    "        self.conv2 = nn.Conv2d(8, 32, 5)\n",
    "        self.conv3 = nn.Conv2d(32, 64, 5)\n",
    "        # printlayer\n",
    "        self.print_layer = Print()\n",
    "        # an affine operation: y = Wx + b\n",
    "        self.fc1 = nn.Linear(64 * 46 * 46, 1024)  # 46x46 from image dimension\n",
    "        self.fc2 = nn.Linear(1024, 128)\n",
    "        self.fc3 = nn.Linear(128, 32)\n",
    "        # TODO add integer observations by concatenating a vector here\n",
    "        self.fc4 = nn.Linear(32, 4)\n",
    "\n",
    "    def forward(self, x):\n",
    "        # Max pooling over a (2, 2) window\n",
    "        x = F.max_pool2d(F.relu(self.conv1(x)), (2, 2))\n",
    "        # If the size is a square you can only specify a single number\n",
    "        x = F.max_pool2d(F.relu(self.conv2(x)), 2)\n",
    "        x = F.max_pool2d(F.relu(self.conv3(x)), (2, 2))\n",
    "        # self.print_layer(x)\n",
    "        x = x.view(-1, self.num_flat_features(x))\n",
    "        x = F.relu(self.fc1(x))\n",
    "        x = F.relu(self.fc2(x))\n",
    "        x = F.relu(self.fc3(x))\n",
    "        x = torch.sigmoid(self.fc4(x))\n",
    "        return x\n",
    "    \n",
    "    def num_flat_features(self, x):\n",
    "        size = x.size()[1:]  # all dimensions except the batch dimension\n",
    "        num_features = 1\n",
    "        for s in size:\n",
    "            num_features *= s\n",
    "        return num_features\n"
   ]
  },
  {
   "cell_type": "code",
   "execution_count": 400,
   "metadata": {},
   "outputs": [
    {
     "name": "stdout",
     "output_type": "stream",
     "text": [
      "IAmageNet(\n",
      "  (conv1): Conv2d(2, 8, kernel_size=(5, 5), stride=(1, 1))\n",
      "  (conv2): Conv2d(8, 32, kernel_size=(5, 5), stride=(1, 1))\n",
      "  (conv3): Conv2d(32, 64, kernel_size=(5, 5), stride=(1, 1))\n",
      "  (print_layer): Print()\n",
      "  (fc1): Linear(in_features=135424, out_features=1024, bias=True)\n",
      "  (fc2): Linear(in_features=1024, out_features=128, bias=True)\n",
      "  (fc3): Linear(in_features=128, out_features=32, bias=True)\n",
      "  (fc4): Linear(in_features=32, out_features=4, bias=True)\n",
      ")\n"
     ]
    }
   ],
   "source": [
    "img_net = IAmageNet().to(device)\n",
    "print(img_net)"
   ]
  },
  {
   "cell_type": "markdown",
   "metadata": {},
   "source": [
    "## Training"
   ]
  },
  {
   "cell_type": "code",
   "execution_count": 401,
   "metadata": {},
   "outputs": [
    {
     "data": {
      "text/plain": [
       "torch.Size([66, 2, 400, 400])"
      ]
     },
     "execution_count": 401,
     "metadata": {},
     "output_type": "execute_result"
    }
   ],
   "source": [
    "x_train,y_train,x_valid,y_valid = map(torch.tensor, (x_train,y_train,x_valid,y_valid))\n",
    "x_train,y_train,x_valid,y_valid = map(lambda x : x.squeeze(), (x_train,y_train,x_valid,y_valid))\n",
    "x_train,y_train,x_valid,y_valid = map(lambda x : x.float(), (x_train,y_train,x_valid,y_valid))\n",
    "x_train.shape"
   ]
  },
  {
   "cell_type": "code",
   "execution_count": 412,
   "metadata": {},
   "outputs": [],
   "source": [
    "bs = 32"
   ]
  },
  {
   "cell_type": "code",
   "execution_count": 413,
   "metadata": {},
   "outputs": [],
   "source": [
    "train_ds = TensorDataset(x_train, y_train)\n",
    "valid_ds = TensorDataset(x_valid, y_valid)\n",
    "data = DataBunch.create(train_ds, valid_ds, bs=bs, device=device)"
   ]
  },
  {
   "cell_type": "code",
   "execution_count": 414,
   "metadata": {},
   "outputs": [
    {
     "data": {
      "text/plain": [
       "(torch.Size([32, 2, 400, 400]), torch.Size([32, 4]))"
      ]
     },
     "execution_count": 414,
     "metadata": {},
     "output_type": "execute_result"
    }
   ],
   "source": [
    "x,y = next(iter(data.train_dl))\n",
    "x.shape,y.shape"
   ]
  },
  {
   "cell_type": "code",
   "execution_count": 415,
   "metadata": {},
   "outputs": [
    {
     "data": {
      "text/plain": [
       "(tensor(0., device='cuda:1'), tensor(1., device='cuda:1'))"
      ]
     },
     "execution_count": 415,
     "metadata": {},
     "output_type": "execute_result"
    }
   ],
   "source": [
    "x.min(), x.max()"
   ]
  },
  {
   "cell_type": "code",
   "execution_count": 416,
   "metadata": {},
   "outputs": [
    {
     "data": {
      "text/plain": [
       "(tensor(0., device='cuda:1'), tensor(1.3075, device='cuda:1'))"
      ]
     },
     "execution_count": 416,
     "metadata": {},
     "output_type": "execute_result"
    }
   ],
   "source": [
    "y.min(), y.max()"
   ]
  },
  {
   "cell_type": "code",
   "execution_count": 417,
   "metadata": {},
   "outputs": [
    {
     "data": {
      "text/plain": [
       "torch.Size([32, 4])"
      ]
     },
     "execution_count": 417,
     "metadata": {},
     "output_type": "execute_result"
    }
   ],
   "source": [
    "img_net(x).shape"
   ]
  },
  {
   "cell_type": "code",
   "execution_count": 418,
   "metadata": {},
   "outputs": [],
   "source": [
    "loss_func = nn.MSELoss()\n",
    "learn = Learner(data, img_net, loss_func=loss_func)"
   ]
  },
  {
   "cell_type": "code",
   "execution_count": 419,
   "metadata": {},
   "outputs": [
    {
     "data": {
      "text/html": [],
      "text/plain": [
       "<IPython.core.display.HTML object>"
      ]
     },
     "metadata": {},
     "output_type": "display_data"
    },
    {
     "name": "stdout",
     "output_type": "stream",
     "text": [
      "LR Finder is complete, type {learner_name}.recorder.plot() to see the graph.\n"
     ]
    },
    {
     "data": {
      "image/png": "[encoded data removed]",
      "text/plain": [
       "<Figure size 432x288 with 1 Axes>"
      ]
     },
     "metadata": {
      "needs_background": "light"
     },
     "output_type": "display_data"
    }
   ],
   "source": [
    "learn.lr_find()\n",
    "learn.recorder.plot()"
   ]
  },
  {
   "cell_type": "code",
   "execution_count": 420,
   "metadata": {},
   "outputs": [
    {
     "data": {
      "text/html": [
       "Total time: 00:12 <p><table border=\"1\" class=\"dataframe\">\n",
       "  <thead>\n",
       "    <tr style=\"text-align: left;\">\n",
       "      <th>epoch</th>\n",
       "      <th>train_loss</th>\n",
       "      <th>valid_loss</th>\n",
       "      <th>time</th>\n",
       "    </tr>\n",
       "  </thead>\n",
       "  <tbody>\n",
       "    <tr>\n",
       "      <td>0</td>\n",
       "      <td>0.149477</td>\n",
       "      <td>0.168535</td>\n",
       "      <td>00:01</td>\n",
       "    </tr>\n",
       "    <tr>\n",
       "      <td>1</td>\n",
       "      <td>0.150226</td>\n",
       "      <td>0.172046</td>\n",
       "      <td>00:01</td>\n",
       "    </tr>\n",
       "    <tr>\n",
       "      <td>2</td>\n",
       "      <td>0.149374</td>\n",
       "      <td>0.172139</td>\n",
       "      <td>00:01</td>\n",
       "    </tr>\n",
       "    <tr>\n",
       "      <td>3</td>\n",
       "      <td>0.145479</td>\n",
       "      <td>0.168425</td>\n",
       "      <td>00:01</td>\n",
       "    </tr>\n",
       "    <tr>\n",
       "      <td>4</td>\n",
       "      <td>0.140991</td>\n",
       "      <td>0.154985</td>\n",
       "      <td>00:01</td>\n",
       "    </tr>\n",
       "    <tr>\n",
       "      <td>5</td>\n",
       "      <td>0.134565</td>\n",
       "      <td>0.159718</td>\n",
       "      <td>00:01</td>\n",
       "    </tr>\n",
       "    <tr>\n",
       "      <td>6</td>\n",
       "      <td>0.128700</td>\n",
       "      <td>0.133802</td>\n",
       "      <td>00:01</td>\n",
       "    </tr>\n",
       "    <tr>\n",
       "      <td>7</td>\n",
       "      <td>0.121757</td>\n",
       "      <td>0.132980</td>\n",
       "      <td>00:01</td>\n",
       "    </tr>\n",
       "    <tr>\n",
       "      <td>8</td>\n",
       "      <td>0.114912</td>\n",
       "      <td>0.135256</td>\n",
       "      <td>00:01</td>\n",
       "    </tr>\n",
       "    <tr>\n",
       "      <td>9</td>\n",
       "      <td>0.108767</td>\n",
       "      <td>0.135847</td>\n",
       "      <td>00:01</td>\n",
       "    </tr>\n",
       "  </tbody>\n",
       "</table>"
      ],
      "text/plain": [
       "<IPython.core.display.HTML object>"
      ]
     },
     "metadata": {},
     "output_type": "display_data"
    }
   ],
   "source": [
    "learn.fit_one_cycle(10, 1e-2)"
   ]
  },
  {
   "cell_type": "code",
   "execution_count": 421,
   "metadata": {},
   "outputs": [
    {
     "data": {
      "image/png": "[encoded data removed]",
      "text/plain": [
       "<Figure size 432x288 with 1 Axes>"
      ]
     },
     "metadata": {
      "needs_background": "light"
     },
     "output_type": "display_data"
    }
   ],
   "source": [
    "learn.recorder.plot_losses()"
   ]
  },
  {
   "cell_type": "code",
   "execution_count": 422,
   "metadata": {},
   "outputs": [
    {
     "data": {
      "image/png": "[encoded data removed]",
      "text/plain": [
       "<Figure size 864x288 with 2 Axes>"
      ]
     },
     "metadata": {
      "needs_background": "light"
     },
     "output_type": "display_data"
    }
   ],
   "source": [
    "learn.recorder.plot_lr(show_moms=True)"
   ]
  },
  {
   "cell_type": "markdown",
   "metadata": {},
   "source": [
    "## Testing"
   ]
  },
  {
   "cell_type": "code",
   "execution_count": 158,
   "metadata": {},
   "outputs": [
    {
     "data": {
      "text/plain": [
       "IAmageNet(\n",
       "  (conv1): Conv2d(2, 8, kernel_size=(5, 5), stride=(1, 1))\n",
       "  (conv2): Conv2d(8, 32, kernel_size=(5, 5), stride=(1, 1))\n",
       "  (conv3): Conv2d(32, 64, kernel_size=(5, 5), stride=(1, 1))\n",
       "  (print_layer): Print()\n",
       "  (fc1): Linear(in_features=135424, out_features=1024, bias=True)\n",
       "  (fc2): Linear(in_features=1024, out_features=128, bias=True)\n",
       "  (fc3): Linear(in_features=128, out_features=32, bias=True)\n",
       "  (fc4): Linear(in_features=32, out_features=4, bias=True)\n",
       ")"
      ]
     },
     "execution_count": 158,
     "metadata": {},
     "output_type": "execute_result"
    }
   ],
   "source": [
    "img_net.eval()"
   ]
  },
  {
   "cell_type": "code",
   "execution_count": 486,
   "metadata": {},
   "outputs": [
    {
     "data": {
      "text/plain": [
       "tensor([0.7773, 0.0389, 0.4179, 0.1547], device='cuda:1')"
      ]
     },
     "execution_count": 486,
     "metadata": {},
     "output_type": "execute_result"
    }
   ],
   "source": [
    "with torch.no_grad():\n",
    "    # ship and laser map from the beginning\n",
    "    x = np.array([[ship_map, laser_map]])\n",
    "    x = torch.tensor(x).float().cuda()\n",
    "    out = img_net(x)[0]\n",
    "out"
   ]
  },
  {
   "cell_type": "code",
   "execution_count": 181,
   "metadata": {},
   "outputs": [
    {
     "data": {
      "text/plain": [
       "array([  0,   0, 240, 217])"
      ]
     },
     "execution_count": 181,
     "metadata": {},
     "output_type": "execute_result"
    }
   ],
   "source": [
    "sol = np.array([\n",
    "    out[0] > 0.5,\n",
    "    out[1] > 0.5,\n",
    "    int(out[2] * 400),\n",
    "    int(out[3] * 400),\n",
    "])\n",
    "sol"
   ]
  },
  {
   "cell_type": "code",
   "execution_count": null,
   "metadata": {},
   "outputs": [],
   "source": [
    "img_net.train()"
   ]
  },
  {
   "cell_type": "markdown",
   "metadata": {},
   "source": [
    "Note that at this point we still don't expect him to be good with so few informations of the battlefield. We only want to make sure that everything is working as intended."
   ]
  },
  {
   "cell_type": "markdown",
   "metadata": {},
   "source": [
    "Still it could be fun to try this model in game."
   ]
  },
  {
   "cell_type": "code",
   "execution_count": 157,
   "metadata": {},
   "outputs": [
    {
     "ename": "PicklingError",
     "evalue": "Can't pickle <class '__main__.IAmageNet'>: it's not the same object as __main__.IAmageNet",
     "output_type": "error",
     "traceback": [
      "\u001b[0;31m---------------------------------------------------------------------------\u001b[0m",
      "\u001b[0;31mPicklingError\u001b[0m                             Traceback (most recent call last)",
      "\u001b[0;32m<ipython-input-157-e9a10dc4b6d8>\u001b[0m in \u001b[0;36m<module>\u001b[0;34m\u001b[0m\n\u001b[1;32m      1\u001b[0m \u001b[0mname\u001b[0m \u001b[0;34m=\u001b[0m \u001b[0;34m\"part2_09-07-19_IAmg_pickle\"\u001b[0m\u001b[0;34m\u001b[0m\u001b[0;34m\u001b[0m\u001b[0m\n\u001b[1;32m      2\u001b[0m \u001b[0;32mwith\u001b[0m \u001b[0mopen\u001b[0m\u001b[0;34m(\u001b[0m\u001b[0mname\u001b[0m\u001b[0;34m,\u001b[0m \u001b[0;34m\"wb+\"\u001b[0m\u001b[0;34m)\u001b[0m \u001b[0;32mas\u001b[0m \u001b[0mfile\u001b[0m\u001b[0;34m:\u001b[0m\u001b[0;34m\u001b[0m\u001b[0;34m\u001b[0m\u001b[0m\n\u001b[0;32m----> 3\u001b[0;31m     \u001b[0mpickle\u001b[0m\u001b[0;34m.\u001b[0m\u001b[0mdump\u001b[0m\u001b[0;34m(\u001b[0m\u001b[0mimg_net\u001b[0m\u001b[0;34m,\u001b[0m \u001b[0mfile\u001b[0m\u001b[0;34m)\u001b[0m\u001b[0;34m\u001b[0m\u001b[0;34m\u001b[0m\u001b[0m\n\u001b[0m",
      "\u001b[0;31mPicklingError\u001b[0m: Can't pickle <class '__main__.IAmageNet'>: it's not the same object as __main__.IAmageNet"
     ]
    }
   ],
   "source": [
    "name = \"part2_09-07-19_IAmage_pickle\"\n",
    "with open(name, \"wb+\") as file:\n",
    "    pickle.dump(img_net, file)"
   ]
  },
  {
   "cell_type": "code",
   "execution_count": null,
   "metadata": {},
   "outputs": [],
   "source": [
    "name = \"part2_09-07-19_IAmage_fastai\"\n",
    "learn.save(name)"
   ]
  },
  {
   "cell_type": "code",
   "execution_count": null,
   "metadata": {},
   "outputs": [],
   "source": [
    "name = \"part2_09-07-19_IAmage_pytorch\"\n",
    "torch.save(img_net, name)"
   ]
  },
  {
   "cell_type": "markdown",
   "metadata": {},
   "source": [
    "# Part 3 : model based on linear and image input"
   ]
  },
  {
   "cell_type": "markdown",
   "metadata": {},
   "source": [
    "## Preprocessing"
   ]
  },
  {
   "cell_type": "code",
   "execution_count": 26,
   "metadata": {},
   "outputs": [],
   "source": [
    "# dimention of the map\n",
    "dim = (int(dataset[\"obs\"][0][4]), int(dataset[\"obs\"][0][5]))"
   ]
  },
  {
   "cell_type": "code",
   "execution_count": 27,
   "metadata": {},
   "outputs": [],
   "source": [
    "# we separate input in two. the 1D and 2D inputs.\n",
    "\n",
    "vect_obs = []\n",
    "imgs_obs = []\n",
    "\n",
    "for obs in dataset[\"obs\"]:\n",
    "    # 1D input\n",
    "    vect_obs.append(np.array(obs[0:8]))\n",
    "    \n",
    "    # 2D input : we reshape them\n",
    "    img1 = obs[8:8+dim[0]*dim[1]]\n",
    "    img2 = obs[8+dim[0]*dim[1]:]\n",
    "    imgs = np.array([img1, img2]).reshape((2,dim[0],dim[1]))\n",
    "    imgs_obs.append(imgs)"
   ]
  },
  {
   "cell_type": "code",
   "execution_count": 28,
   "metadata": {},
   "outputs": [],
   "source": [
    "# we normalize the values of output so they are all between 0 and 1\n",
    "outputs = deepcopy(dataset[\"sol\"])\n",
    "for i, elt in enumerate(outputs):\n",
    "    # index of parameters that represent a position on the map\n",
    "    pos_param = [(2, 3)]\n",
    "    for pos in pos_param:\n",
    "        outputs[i][pos[0]] /= dim[0]\n",
    "        outputs[i][pos[1]] /= dim[1]"
   ]
  },
  {
   "cell_type": "code",
   "execution_count": 29,
   "metadata": {},
   "outputs": [],
   "source": [
    "# size of the training dataset\n",
    "t_size = int(0.8 * len(dataset[\"obs\"]))"
   ]
  },
  {
   "cell_type": "code",
   "execution_count": 30,
   "metadata": {},
   "outputs": [
    {
     "data": {
      "text/plain": [
       "(66, 17)"
      ]
     },
     "execution_count": 30,
     "metadata": {},
     "output_type": "execute_result"
    }
   ],
   "source": [
    "vect_train, imgs_train, y_train = vect_obs[0:t_size], imgs_obs[0:t_size], outputs[0:t_size]\n",
    "vect_valid, imgs_valid, y_valid = vect_obs[t_size:], imgs_obs[t_size:], outputs[t_size:]\n",
    "len(y_train), len(y_valid)"
   ]
  },
  {
   "cell_type": "code",
   "execution_count": 31,
   "metadata": {},
   "outputs": [
    {
     "data": {
      "text/plain": [
       "(17, 8, 1)"
      ]
     },
     "execution_count": 31,
     "metadata": {},
     "output_type": "execute_result"
    }
   ],
   "source": [
    "np.array(vect_valid).shape"
   ]
  },
  {
   "cell_type": "code",
   "execution_count": 32,
   "metadata": {},
   "outputs": [
    {
     "data": {
      "text/plain": [
       "(17, 2, 400, 400)"
      ]
     },
     "execution_count": 32,
     "metadata": {},
     "output_type": "execute_result"
    }
   ],
   "source": [
    "np.array(imgs_valid).shape"
   ]
  },
  {
   "cell_type": "code",
   "execution_count": 33,
   "metadata": {},
   "outputs": [
    {
     "data": {
      "text/plain": [
       "(17, 4, 1)"
      ]
     },
     "execution_count": 33,
     "metadata": {},
     "output_type": "execute_result"
    }
   ],
   "source": [
    "np.array(y_valid).shape"
   ]
  },
  {
   "cell_type": "markdown",
   "metadata": {},
   "source": [
    "## Model"
   ]
  },
  {
   "cell_type": "code",
   "execution_count": 34,
   "metadata": {},
   "outputs": [],
   "source": [
    "# print module layer\n",
    "class Print(nn.Module):\n",
    "    def forward(self, x):\n",
    "        print(x.size())\n",
    "        return x"
   ]
  },
  {
   "cell_type": "code",
   "execution_count": 35,
   "metadata": {},
   "outputs": [
    {
     "name": "stdout",
     "output_type": "stream",
     "text": [
      "BrAInet(\n",
      "  (conv1): Conv2d(2, 8, kernel_size=(5, 5), stride=(1, 1))\n",
      "  (conv2): Conv2d(8, 32, kernel_size=(5, 5), stride=(1, 1))\n",
      "  (conv3): Conv2d(32, 64, kernel_size=(5, 5), stride=(1, 1))\n",
      "  (fc1): Linear(in_features=135424, out_features=1024, bias=True)\n",
      "  (fc2): Linear(in_features=1024, out_features=128, bias=True)\n",
      "  (fc3): Linear(in_features=128, out_features=24, bias=True)\n",
      "  (fc4): Linear(in_features=32, out_features=4, bias=True)\n",
      ")\n"
     ]
    }
   ],
   "source": [
    "class BrAInet(nn.Module):\n",
    "\n",
    "    def __init__(self):\n",
    "        super(BrAInet, self).__init__()\n",
    "        # input are ship map and laser map (400x400)\n",
    "        # 2 input image channel, 8 output channels, 5x5 square convolution\n",
    "        # kernel\n",
    "        self.conv1 = nn.Conv2d(2, 8, 5)\n",
    "        self.conv2 = nn.Conv2d(8, 32, 5)\n",
    "        self.conv3 = nn.Conv2d(32, 64, 5)\n",
    "        # an affine operation: y = Wx + b\n",
    "        self.fc1 = nn.Linear(64 * 46 * 46, 1024)  # 46x46 from image dimension\n",
    "        self.fc2 = nn.Linear(1024, 128)\n",
    "        self.fc3 = nn.Linear(128, 24)\n",
    "        # injection of the second size 8 input (1D input)\n",
    "        self.fc4 = nn.Linear(32, 4)\n",
    "\n",
    "    def forward(self, vect, imgs):\n",
    "        x = imgs\n",
    "        # Max pooling over a (2, 2) window\n",
    "        x = F.max_pool2d(F.relu(self.conv1(x)), (2, 2))\n",
    "        # If the size is a square you can only specify a single number\n",
    "        x = F.max_pool2d(F.relu(self.conv2(x)), 2)\n",
    "        x = F.max_pool2d(F.relu(self.conv3(x)), (2, 2))\n",
    "        # self.print_layer(x)\n",
    "        x = x.view(-1, self.num_flat_features(x))\n",
    "        x = F.relu(self.fc1(x))\n",
    "        x = F.relu(self.fc2(x))\n",
    "        x = F.relu(self.fc3(x))\n",
    "        \n",
    "        combined = torch.cat((x.view(x.size(0), -1), \n",
    "                              vect.view(vect.size(0), -1)), dim=1)\n",
    "        # x = torch.cat((x, vect), dim=1)\n",
    "        \n",
    "        combined = torch.sigmoid(self.fc4(combined))\n",
    "        return combined\n",
    "\n",
    "    def num_flat_features(self, x):\n",
    "        size = x.size()[1:]  # all dimensions except the batch dimension\n",
    "        num_features = 1\n",
    "        for s in size:\n",
    "            num_features *= s\n",
    "        return num_features\n",
    "\n",
    "\n",
    "brain_net = BrAInet().to(device)\n",
    "print(brain_net)"
   ]
  },
  {
   "cell_type": "markdown",
   "metadata": {},
   "source": [
    "## Training"
   ]
  },
  {
   "cell_type": "code",
   "execution_count": 36,
   "metadata": {},
   "outputs": [],
   "source": [
    "train_valid = (vect_train, imgs_train, y_train, vect_valid, imgs_valid, y_valid)\n",
    "train_valid = map(torch.tensor, train_valid)\n",
    "train_valid = map(lambda x : x.squeeze(), train_valid)\n",
    "train_valid = map(lambda x : x.float(), train_valid)\n",
    "(vect_train, imgs_train, y_train, vect_valid, imgs_valid, y_valid) = train_valid"
   ]
  },
  {
   "cell_type": "code",
   "execution_count": 37,
   "metadata": {},
   "outputs": [],
   "source": [
    "bs = 32"
   ]
  },
  {
   "cell_type": "code",
   "execution_count": 38,
   "metadata": {},
   "outputs": [],
   "source": [
    "class ConcatDataset(Dataset):\n",
    "    def __init__(self, x1, x2, y): self.x1,self.x2,self.y = x1,x2,y\n",
    "    def __len__(self): return len(self.y)\n",
    "    def __getitem__(self, i): return (self.x1[i], self.x2[i]), self.y[i]\n",
    "\n",
    "train_ds = ConcatDataset(vect_train, imgs_train, y_train)\n",
    "valid_ds = ConcatDataset(vect_valid, imgs_valid, y_valid)"
   ]
  },
  {
   "cell_type": "code",
   "execution_count": 39,
   "metadata": {},
   "outputs": [],
   "source": [
    "def my_collate(batch):\n",
    "    x,y = list(zip(*batch))\n",
    "    x1,x2 = list(zip(*x))\n",
    "    print(\"(x1, x2), y\", (x1, x2), y)\n",
    "    # x1 = to_data(x1)\n",
    "    # x1 = list(zip(*x1))\n",
    "    # x1 = torch.stack(x1[0]), torch.stack(x1[1])\n",
    "    # x2, y = pad_collate(list(zip(x2, y)), pad_idx=1, pad_first=True)\n",
    "    return (x1, x2), y"
   ]
  },
  {
   "cell_type": "code",
   "execution_count": 40,
   "metadata": {},
   "outputs": [],
   "source": [
    "train_dl = DataLoader(train_ds, bs//2)#, sampler=train_sampler)\n",
    "valid_dl = DataLoader(valid_ds, bs)#, sampler=valid_sampler)\n",
    "data = DataBunch(train_dl, valid_dl, device=defaults.device)#, collate_fn=my_collate, path=PATH)"
   ]
  },
  {
   "cell_type": "code",
   "execution_count": 41,
   "metadata": {},
   "outputs": [
    {
     "name": "stdout",
     "output_type": "stream",
     "text": [
      "2\n",
      "torch.Size([16, 8])\n",
      "torch.Size([16, 2, 400, 400])\n",
      "torch.Size([16, 4])\n"
     ]
    }
   ],
   "source": [
    "(vect,imgs),y = next(iter(data.train_dl))\n",
    "print(len(next(iter(data.train_dl))))\n",
    "print(vect.shape)\n",
    "print(imgs.shape)\n",
    "print(y.shape)"
   ]
  },
  {
   "cell_type": "code",
   "execution_count": 42,
   "metadata": {},
   "outputs": [
    {
     "data": {
      "text/plain": [
       "(tensor(0., device='cuda:1'), tensor(400., device='cuda:1'))"
      ]
     },
     "execution_count": 42,
     "metadata": {},
     "output_type": "execute_result"
    }
   ],
   "source": [
    "vect.min(), vect.max()"
   ]
  },
  {
   "cell_type": "code",
   "execution_count": 43,
   "metadata": {},
   "outputs": [
    {
     "data": {
      "text/plain": [
       "(tensor(0., device='cuda:1'), tensor(1., device='cuda:1'))"
      ]
     },
     "execution_count": 43,
     "metadata": {},
     "output_type": "execute_result"
    }
   ],
   "source": [
    "imgs.min(), imgs.max()"
   ]
  },
  {
   "cell_type": "code",
   "execution_count": 44,
   "metadata": {},
   "outputs": [
    {
     "data": {
      "text/plain": [
       "(tensor(0., device='cuda:1'), tensor(1., device='cuda:1'))"
      ]
     },
     "execution_count": 44,
     "metadata": {},
     "output_type": "execute_result"
    }
   ],
   "source": [
    "y.min(), y.max()"
   ]
  },
  {
   "cell_type": "code",
   "execution_count": 45,
   "metadata": {},
   "outputs": [
    {
     "data": {
      "text/plain": [
       "torch.Size([16, 4])"
      ]
     },
     "execution_count": 45,
     "metadata": {},
     "output_type": "execute_result"
    }
   ],
   "source": [
    "brain_net(vect, imgs).shape"
   ]
  },
  {
   "cell_type": "code",
   "execution_count": 46,
   "metadata": {},
   "outputs": [],
   "source": [
    "loss_func = nn.MSELoss()\n",
    "learn = Learner(data, brain_net, loss_func=loss_func)"
   ]
  },
  {
   "cell_type": "code",
   "execution_count": 48,
   "metadata": {},
   "outputs": [
    {
     "data": {
      "text/html": [],
      "text/plain": [
       "<IPython.core.display.HTML object>"
      ]
     },
     "metadata": {},
     "output_type": "display_data"
    },
    {
     "name": "stdout",
     "output_type": "stream",
     "text": [
      "LR Finder is complete, type {learner_name}.recorder.plot() to see the graph.\n"
     ]
    },
    {
     "data": {
      "image/png": "[encoded data removed]",
      "text/plain": [
       "<Figure size 432x288 with 1 Axes>"
      ]
     },
     "metadata": {
      "needs_background": "light"
     },
     "output_type": "display_data"
    }
   ],
   "source": [
    "learn.lr_find()\n",
    "learn.recorder.plot()"
   ]
  },
  {
   "cell_type": "code",
   "execution_count": 49,
   "metadata": {},
   "outputs": [
    {
     "data": {
      "text/html": [
       "Total time: 00:04 <p><table border=\"1\" class=\"dataframe\">\n",
       "  <thead>\n",
       "    <tr style=\"text-align: left;\">\n",
       "      <th>epoch</th>\n",
       "      <th>train_loss</th>\n",
       "      <th>valid_loss</th>\n",
       "      <th>time</th>\n",
       "    </tr>\n",
       "  </thead>\n",
       "  <tbody>\n",
       "    <tr>\n",
       "      <td>0</td>\n",
       "      <td>0.421101</td>\n",
       "      <td>0.482498</td>\n",
       "      <td>00:00</td>\n",
       "    </tr>\n",
       "    <tr>\n",
       "      <td>1</td>\n",
       "      <td>0.388817</td>\n",
       "      <td>0.366924</td>\n",
       "      <td>00:00</td>\n",
       "    </tr>\n",
       "    <tr>\n",
       "      <td>2</td>\n",
       "      <td>0.352196</td>\n",
       "      <td>0.366924</td>\n",
       "      <td>00:00</td>\n",
       "    </tr>\n",
       "    <tr>\n",
       "      <td>3</td>\n",
       "      <td>0.343892</td>\n",
       "      <td>0.366924</td>\n",
       "      <td>00:00</td>\n",
       "    </tr>\n",
       "    <tr>\n",
       "      <td>4</td>\n",
       "      <td>0.338944</td>\n",
       "      <td>0.366924</td>\n",
       "      <td>00:00</td>\n",
       "    </tr>\n",
       "    <tr>\n",
       "      <td>5</td>\n",
       "      <td>0.335673</td>\n",
       "      <td>0.366924</td>\n",
       "      <td>00:00</td>\n",
       "    </tr>\n",
       "    <tr>\n",
       "      <td>6</td>\n",
       "      <td>0.333360</td>\n",
       "      <td>0.366924</td>\n",
       "      <td>00:00</td>\n",
       "    </tr>\n",
       "    <tr>\n",
       "      <td>7</td>\n",
       "      <td>0.331645</td>\n",
       "      <td>0.366924</td>\n",
       "      <td>00:00</td>\n",
       "    </tr>\n",
       "    <tr>\n",
       "      <td>8</td>\n",
       "      <td>0.330330</td>\n",
       "      <td>0.366924</td>\n",
       "      <td>00:00</td>\n",
       "    </tr>\n",
       "    <tr>\n",
       "      <td>9</td>\n",
       "      <td>0.329293</td>\n",
       "      <td>0.366924</td>\n",
       "      <td>00:00</td>\n",
       "    </tr>\n",
       "  </tbody>\n",
       "</table>"
      ],
      "text/plain": [
       "<IPython.core.display.HTML object>"
      ]
     },
     "metadata": {},
     "output_type": "display_data"
    }
   ],
   "source": [
    "learn.fit_one_cycle(10, 1e-2)"
   ]
  },
  {
   "cell_type": "code",
   "execution_count": 50,
   "metadata": {},
   "outputs": [
    {
     "data": {
      "image/png": "[encoded data removed]",
      "text/plain": [
       "<Figure size 432x288 with 1 Axes>"
      ]
     },
     "metadata": {
      "needs_background": "light"
     },
     "output_type": "display_data"
    }
   ],
   "source": [
    "learn.recorder.plot_losses()"
   ]
  },
  {
   "cell_type": "code",
   "execution_count": 51,
   "metadata": {},
   "outputs": [
    {
     "data": {
      "image/png": "[encoded data removed]",
      "text/plain": [
       "<Figure size 864x288 with 2 Axes>"
      ]
     },
     "metadata": {
      "needs_background": "light"
     },
     "output_type": "display_data"
    }
   ],
   "source": [
    "learn.recorder.plot_lr(show_moms=True)"
   ]
  },
  {
   "cell_type": "markdown",
   "metadata": {},
   "source": [
    "## Testing"
   ]
  },
  {
   "cell_type": "code",
   "execution_count": 52,
   "metadata": {},
   "outputs": [
    {
     "data": {
      "text/plain": [
       "BrAInet(\n",
       "  (conv1): Conv2d(2, 8, kernel_size=(5, 5), stride=(1, 1))\n",
       "  (conv2): Conv2d(8, 32, kernel_size=(5, 5), stride=(1, 1))\n",
       "  (conv3): Conv2d(32, 64, kernel_size=(5, 5), stride=(1, 1))\n",
       "  (fc1): Linear(in_features=135424, out_features=1024, bias=True)\n",
       "  (fc2): Linear(in_features=1024, out_features=128, bias=True)\n",
       "  (fc3): Linear(in_features=128, out_features=24, bias=True)\n",
       "  (fc4): Linear(in_features=32, out_features=4, bias=True)\n",
       ")"
      ]
     },
     "execution_count": 52,
     "metadata": {},
     "output_type": "execute_result"
    }
   ],
   "source": [
    "brain_net.eval()"
   ]
  },
  {
   "cell_type": "code",
   "execution_count": 55,
   "metadata": {},
   "outputs": [
    {
     "name": "stdout",
     "output_type": "stream",
     "text": [
      "torch.Size([1, 8])\n",
      "torch.Size([1, 2, 400, 400])\n"
     ]
    },
    {
     "data": {
      "text/plain": [
       "tensor([0., 1., 1., 1.], device='cuda:1')"
      ]
     },
     "execution_count": 55,
     "metadata": {},
     "output_type": "execute_result"
    }
   ],
   "source": [
    "with torch.no_grad():\n",
    "    vect = torch.tensor([0, 1, 0, 0, 400, 400, 100, 100]).float().cuda().unsqueeze(0)\n",
    "    # ship and laser map from the beginning\n",
    "    imgs = [ship_map, laser_map]\n",
    "    imgs = torch.tensor(imgs).float().cuda().unsqueeze(0)\n",
    "    print(vect.shape)\n",
    "    print(imgs.shape)\n",
    "    out = brain_net(vect, imgs)[0]\n",
    "out"
   ]
  },
  {
   "cell_type": "code",
   "execution_count": 56,
   "metadata": {},
   "outputs": [
    {
     "data": {
      "text/plain": [
       "array([  0,   1, 400, 400])"
      ]
     },
     "execution_count": 56,
     "metadata": {},
     "output_type": "execute_result"
    }
   ],
   "source": [
    "sol = np.array([\n",
    "    out[0] > 0.5,\n",
    "    out[1] > 0.5,\n",
    "    int(out[2] * 400),\n",
    "    int(out[3] * 400),\n",
    "])\n",
    "sol"
   ]
  },
  {
   "cell_type": "code",
   "execution_count": 59,
   "metadata": {},
   "outputs": [],
   "source": [
    "# put back the network to train mode\n",
    "res = brain_net.train()"
   ]
  },
  {
   "cell_type": "code",
   "execution_count": 61,
   "metadata": {},
   "outputs": [],
   "source": [
    "name = \"part3_31-07-19_BrAInet_pickle\"\n",
    "with open(name, \"wb+\") as file:\n",
    "    pickle.dump(brain_net, file)"
   ]
  },
  {
   "cell_type": "code",
   "execution_count": 62,
   "metadata": {},
   "outputs": [],
   "source": [
    "name = \"part3_31-07-19_BrAInet_fastai\"\n",
    "learn.save(name)"
   ]
  },
  {
   "cell_type": "code",
   "execution_count": 63,
   "metadata": {},
   "outputs": [
    {
     "name": "stderr",
     "output_type": "stream",
     "text": [
      "/home/mondher/anaconda3/lib/python3.6/site-packages/torch/serialization.py:251: UserWarning: Couldn't retrieve source code for container of type BrAInet. It won't be checked for correctness upon loading.\n",
      "  \"type \" + obj.__name__ + \". It won't be checked \"\n"
     ]
    }
   ],
   "source": [
    "name = \"part3_31-07-19_BrAInet_pytorch\"\n",
    "torch.save(brain_net, name)"
   ]
  },
  {
   "cell_type": "code",
   "execution_count": null,
   "metadata": {},
   "outputs": [],
   "source": []
  },
  {
   "cell_type": "code",
   "execution_count": null,
   "metadata": {},
   "outputs": [],
   "source": []
  },
  {
   "cell_type": "code",
   "execution_count": null,
   "metadata": {},
   "outputs": [],
   "source": []
  }
 ],
 "metadata": {
  "kernelspec": {
   "display_name": "Python 3",
   "language": "python",
   "name": "python3"
  },
  "language_info": {
   "codemirror_mode": {
    "name": "ipython",
    "version": 3
   },
   "file_extension": ".py",
   "mimetype": "text/x-python",
   "name": "python",
   "nbconvert_exporter": "python",
   "pygments_lexer": "ipython3",
   "version": "3.6.8"
  }
 },
 "nbformat": 4,
 "nbformat_minor": 2
}
